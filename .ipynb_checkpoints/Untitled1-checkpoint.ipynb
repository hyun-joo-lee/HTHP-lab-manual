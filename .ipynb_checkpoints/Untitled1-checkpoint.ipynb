{
 "cells": [
  {
   "cell_type": "markdown",
   "id": "23dc2296-e91a-4feb-9b02-6a9baab64762",
   "metadata": {},
   "source": [
    "# 1) Calculate Distance"
   ]
  },
  {
   "cell_type": "code",
   "execution_count": 1,
   "id": "f5e00be7-d958-4fc1-9610-df601471ab76",
   "metadata": {},
   "outputs": [],
   "source": [
    "import math"
   ]
  },
  {
   "cell_type": "code",
   "execution_count": 9,
   "id": "dda827be-509e-4e9b-b42f-5764f6de6558",
   "metadata": {},
   "outputs": [],
   "source": [
    "# Transform deg to rad\n",
    "φ1 = lat1 * math.pi / 180; \n",
    "φ2 = lat2 * math.pi / 180; \n",
    "λ1 = lon1 * math.pi / 180; \n",
    "λ2 = lon2 * math.pi / 180; \n",
    "\n",
    "# Calculate Azimuth\n",
    "y = math.sin(λ2 - λ1) * math.cos(φ2); \n",
    "x = math.cos(φ1) * math.sin(φ2) - math.sin(φ1) * math.cos(φ2) * math.cos(λ2 - λ1); \n",
    "θ = math.atan2(y, x)\n",
    "if θ>0:\n",
    "    θ = θ\n",
    "elif θ<0:\n",
    "    θ = θ+2*math.pi\n",
    "\n",
    "# Calculate A B C\n",
    "A = abs(λ1-λ2)\n",
    "B = θ\n",
    "C = 0\n",
    "if B>math.pi:\n",
    "    C = B - math.pi\n",
    "else:\n",
    "    C = B + math.pi\n",
    "\n",
    "# Check rule 1 and calculate a b c\n",
    "if A+B+C>math.pi:\n",
    "    b = 90-lat2\n",
    "    c = 90-lat1\n",
    "    a = math.cos(math.radians(b))*math.cos(math.radians(c)) + math.sin(math.radians(b))*math.sin(math.radians(c))*math.cos(A)\n",
    "    a = math.acos(a)\n",
    "    # Transform rad to deg\n",
    "    distance_deg = (a * 180 / math.pi)\n",
    "    distance_km = 6378.1370 * a\n",
    "else:\n",
    "    print(\"Calculate again\")"
   ]
  },
  {
   "cell_type": "code",
   "execution_count": 2,
   "id": "6d8fa4e9-73fd-4ffc-995a-564cbff3fb11",
   "metadata": {},
   "outputs": [],
   "source": [
    "# New York city(1) - Dakar(2)\n",
    "lat1 = 40.73061; \n",
    "lon1 = -73.935242; \n",
    "\n",
    "lat2 = 14.716677; \n",
    "lon2 = -17.467686;"
   ]
  },
  {
   "cell_type": "code",
   "execution_count": 4,
   "id": "0a8cf8a4-f091-489e-8eb9-ec37b2ab2bad",
   "metadata": {},
   "outputs": [
    {
     "name": "stdout",
     "output_type": "stream",
     "text": [
      "New York city to Dakar\n",
      "distance in degree: 55.20537822051268\n",
      "distance in km: 6145.434592557546 km\n"
     ]
    }
   ],
   "source": [
    "print(\"New York city to Dakar\")\n",
    "print(\"distance in degree:\", distance_deg)\n",
    "print(\"distance in km:\", distance_km, \"km\")"
   ]
  },
  {
   "cell_type": "code",
   "execution_count": 5,
   "id": "b68023db-ceca-44ff-ae9f-b24246eee822",
   "metadata": {},
   "outputs": [],
   "source": [
    "# Dakar(1) - San Juan(2)\n",
    "lat1 = 14.716677; \n",
    "lon1 = -17.467686;\n",
    "\n",
    "lat2 = 18.466333; \n",
    "lon2 = -66.105721; "
   ]
  },
  {
   "cell_type": "code",
   "execution_count": 22,
   "id": "46286fe8-0b84-4e38-b87a-4f4c7cb64f8c",
   "metadata": {},
   "outputs": [
    {
     "name": "stdout",
     "output_type": "stream",
     "text": [
      "Dakar to San Juan\n",
      "distance in degree: 46.63116136300883\n",
      "distance in km: 5190.957138029116 km\n"
     ]
    }
   ],
   "source": [
    "print(\"Dakar to San Juan\")\n",
    "print(\"distance in degree:\", distance_deg)\n",
    "print(\"distance in km:\", distance_km, \"km\")"
   ]
  },
  {
   "cell_type": "code",
   "execution_count": 8,
   "id": "9992584e-c402-4719-bc37-3f832d39b3ce",
   "metadata": {},
   "outputs": [],
   "source": [
    "# San Juan(1) - New York city(2)\n",
    "lat1 = 18.466333; \n",
    "lon1 = -66.105721; \n",
    "\n",
    "lat2 = 40.73061; \n",
    "lon2 = -73.935242; "
   ]
  },
  {
   "cell_type": "code",
   "execution_count": 25,
   "id": "668c0fe4-de0b-40f8-895f-54738af5a649",
   "metadata": {},
   "outputs": [
    {
     "name": "stdout",
     "output_type": "stream",
     "text": [
      "San Juan to New York city\n",
      "distance in degree: 23.25661671124733\n",
      "distance in km: 2588.914729870389 km\n"
     ]
    }
   ],
   "source": [
    "print(\"San Juan to New York city\")\n",
    "print(\"distance in degree:\", distance_deg)\n",
    "print(\"distance in km:\", distance_km, \"km\")"
   ]
  },
  {
   "cell_type": "markdown",
   "id": "85a64c73-b9fa-416a-b9ab-738647e5263e",
   "metadata": {},
   "source": [
    "# 2) Calculate Azimuth"
   ]
  },
  {
   "cell_type": "markdown",
   "id": "240e845f-52de-4c94-884b-c327fb984be9",
   "metadata": {},
   "source": [
    "pt 1 = New York city  \n",
    "pt 2 = Dakar, Senegal  \n",
    "pt 3 = San Juan, Puerto Rico"
   ]
  },
  {
   "cell_type": "code",
   "execution_count": 4,
   "id": "d076ca01-b307-463f-8200-28a70ec7d2b0",
   "metadata": {},
   "outputs": [
    {
     "name": "stdout",
     "output_type": "stream",
     "text": [
      "Azimuth from pt 1 to pt 2: 0.9635156147567144\n"
     ]
    }
   ],
   "source": [
    "print (\"Azimuth from pt 1 to pt 2:\", a)"
   ]
  },
  {
   "cell_type": "code",
   "execution_count": 7,
   "id": "d9793571-4996-4005-a2c2-5f686248d7f8",
   "metadata": {},
   "outputs": [
    {
     "name": "stdout",
     "output_type": "stream",
     "text": [
      "Azimuth from pt 2 to pt 3: 0.8138672998132709\n"
     ]
    }
   ],
   "source": [
    "print (\"Azimuth from pt 2 to pt 3:\", a)"
   ]
  },
  {
   "cell_type": "code",
   "execution_count": 10,
   "id": "513ba514-7635-4620-9283-3b17c750b782",
   "metadata": {},
   "outputs": [
    {
     "name": "stdout",
     "output_type": "stream",
     "text": [
      "Azimuth from pt 3 to pt 1: 0.4059045344856012\n"
     ]
    }
   ],
   "source": [
    "print (\"Azimuth from pt 3 to pt 1:\", a)"
   ]
  },
  {
   "cell_type": "markdown",
   "id": "0e5e7d1e-863f-474f-99d7-75baca1e0f84",
   "metadata": {},
   "source": [
    "# 3) Calculate spreading rate\n",
    "This is half-spreading rate, which shows growing rate of one plate."
   ]
  },
  {
   "cell_type": "code",
   "execution_count": 16,
   "id": "1f757834-a03f-4c4f-a56f-9ff6722e7700",
   "metadata": {},
   "outputs": [
    {
     "name": "stdout",
     "output_type": "stream",
     "text": [
      "Average spreading rate for 70Ma is 1.8571428571428572 cm/year\n"
     ]
    }
   ],
   "source": [
    "#1300km/70Ma\n",
    "print(\"Average spreading rate for 70Ma is\", 130000000/70000000, \"cm/year\")"
   ]
  }
 ],
 "metadata": {
  "kernelspec": {
   "display_name": "Python 3",
   "language": "python",
   "name": "python3"
  },
  "language_info": {
   "codemirror_mode": {
    "name": "ipython",
    "version": 3
   },
   "file_extension": ".py",
   "mimetype": "text/x-python",
   "name": "python",
   "nbconvert_exporter": "python",
   "pygments_lexer": "ipython3",
   "version": "3.8.8"
  }
 },
 "nbformat": 4,
 "nbformat_minor": 5
}
